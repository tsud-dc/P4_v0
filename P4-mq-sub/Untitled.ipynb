{
 "cells": [
  {
   "cell_type": "code",
   "execution_count": null,
   "metadata": {},
   "outputs": [
    {
     "name": "stdout",
     "output_type": "stream",
     "text": [
      " * Serving Flask app \"__main__\" (lazy loading)\n",
      " * Environment: production\n",
      "   WARNING: This is a development server. Do not use it in a production deployment.\n",
      "   Use a production WSGI server instead.\n",
      " * Debug mode: off\n"
     ]
    },
    {
     "name": "stderr",
     "output_type": "stream",
     "text": [
      " * Running on http://0.0.0.0:5100/ (Press CTRL+C to quit)\n",
      "127.0.0.1 - - [24/Dec/2019 11:20:25] \"GET /api/v1/store_db?vals=%5B%22light%22,%20%222019/12/24%2011:20%22,%20%2250%22%5D HTTP/1.1\" 200 -\n"
     ]
    },
    {
     "name": "stdout",
     "output_type": "stream",
     "text": [
      "['light', '2019/12/24 11:20', '50']\n"
     ]
    },
    {
     "name": "stderr",
     "output_type": "stream",
     "text": [
      "127.0.0.1 - - [24/Dec/2019 11:23:15] \"GET /api/v1/store_db?vals=%5B%22temperature%22,%20%222019/12/24%2011:20%22,%20%2216.0%22%5D HTTP/1.1\" 200 -\n"
     ]
    },
    {
     "name": "stdout",
     "output_type": "stream",
     "text": [
      "['temperature', '2019/12/24 11:20', '16.0']\n"
     ]
    }
   ],
   "source": [
    "import os\n",
    "import time\n",
    "import pymongo\n",
    "from flask import Flask, render_template, request\n",
    "import json\n",
    "import setenv\n",
    "\n",
    "lport = os.environ.get('port')\n",
    "\n",
    "if 'VCAP_SERVICES' in os.environ:\n",
    "    VCAP_SERVICES = json.loads(os.environ['VCAP_SERVICES'])\n",
    "    MONGOCRED = VCAP_SERVICES[\"mlab\"][0][\"credentials\"]\n",
    "    client = pymongo.MongoClient(MONGOCRED[\"uri\"], retryWrites=False)\n",
    "    DB_NAME = str(MONGOCRED[\"uri\"].split(\"/\")[-1])\n",
    "\n",
    "# Otherwise, assume running locally with local MongoDB instance    \n",
    "else:\n",
    "    client = pymongo.MongoClient('127.0.0.1:27017')\n",
    "    DB_NAME = os.environ.get('db_name')  ##### Make sure this matches the name of your MongoDB database ######\n",
    "\n",
    "mng_db = client[DB_NAME]\n",
    "\n",
    "# Create a Flask instance\n",
    "app = Flask(__name__)\n",
    "\n",
    "##### Define routes #####\n",
    "# recieve data [col, date, value]\n",
    "@app.route('/api/v1/store_db', methods=['GET'])\n",
    "def store_db():\n",
    "    req = request.args\n",
    "\n",
    "    #requests.get(host/api/v1/storedb?vals=[xxxx,xxxxx,xxxx](json_strings)) on mq_agent on another container\n",
    "    vals = json.loads(req['vals'])\n",
    "    \n",
    "    print(vals)\n",
    "    \n",
    "    env_col = mng_db[vals[0]]\n",
    "    env_col.insert_one({'date':vals[1],'value':vals[2]})\n",
    "\n",
    "    code = 200\n",
    "    return '', code\n",
    "\n",
    "##### Run the Flask instance, browse to http://<< Host IP or URL >>:80 #####\n",
    "if __name__ == \"__main__\":\n",
    "    app.run(debug=False, host='0.0.0.0', port=int(os.getenv('PORT', lport)), threaded=True)"
   ]
  },
  {
   "cell_type": "code",
   "execution_count": null,
   "metadata": {},
   "outputs": [],
   "source": []
  }
 ],
 "metadata": {
  "kernelspec": {
   "display_name": "Python 3",
   "language": "python",
   "name": "python3"
  },
  "language_info": {
   "codemirror_mode": {
    "name": "ipython",
    "version": 3
   },
   "file_extension": ".py",
   "mimetype": "text/x-python",
   "name": "python",
   "nbconvert_exporter": "python",
   "pygments_lexer": "ipython3",
   "version": "3.7.5"
  }
 },
 "nbformat": 4,
 "nbformat_minor": 2
}
