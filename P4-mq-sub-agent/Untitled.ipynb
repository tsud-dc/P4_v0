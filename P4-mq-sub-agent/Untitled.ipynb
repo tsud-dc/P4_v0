{
 "cells": [
  {
   "cell_type": "code",
   "execution_count": null,
   "metadata": {},
   "outputs": [
    {
     "name": "stdout",
     "output_type": "stream",
     "text": [
      "creating new instance\n",
      "connecting to broker\n"
     ]
    }
   ],
   "source": [
    "import paho.mqtt.client as mqtt\n",
    "import os\n",
    "import time\n",
    "import requests\n",
    "import json\n",
    "import setenv\n",
    "\n",
    "broker_address = os.environ.get('broker_address')\n",
    "Topic = os.environ.get('Topic')\n",
    "col_name = os.environ.get('col_name')\n",
    "db_url = os.environ.get('db_url')\n",
    "\n",
    "def on_message(client, userdata, message):\n",
    "    m = str(message.payload.decode(\"utf-8\")).split(',')\n",
    "    print(\"message received: {}\".format(m))\n",
    "    #vals = db_url + '?vals=' + json.dumps([col_name, m[1], m[3]])\n",
    "    url = '{}?vals={}'.format(db_url, json.dumps([col_name,m[1],m[3]]))\n",
    "    print(url)\n",
    "    ret_val = requests.get(url)\n",
    "    print(ret_val.status_code, ret_val.text)\n",
    "\n",
    "print(\"creating new instance\")\n",
    "client = mqtt.Client() #create new instance\n",
    "client.on_message=on_message #attach function to callback\n",
    "print(\"connecting to broker\")\n",
    "client.connect(broker_address) #connect to broker\n",
    "\n",
    "client.loop_start() #start the loop\n",
    "\n",
    "while True:\n",
    "    client.subscribe(Topic)\n",
    "    time.sleep(2) # wait\n",
    "\n",
    "client.loop_stop() #stop the loop"
   ]
  },
  {
   "cell_type": "code",
   "execution_count": null,
   "metadata": {},
   "outputs": [],
   "source": []
  }
 ],
 "metadata": {
  "kernelspec": {
   "display_name": "Python 3",
   "language": "python",
   "name": "python3"
  },
  "language_info": {
   "codemirror_mode": {
    "name": "ipython",
    "version": 3
   },
   "file_extension": ".py",
   "mimetype": "text/x-python",
   "name": "python",
   "nbconvert_exporter": "python",
   "pygments_lexer": "ipython3",
   "version": "3.7.5"
  }
 },
 "nbformat": 4,
 "nbformat_minor": 2
}
